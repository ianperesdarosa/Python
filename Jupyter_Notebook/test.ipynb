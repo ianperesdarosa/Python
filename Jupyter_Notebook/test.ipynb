{
 "cells": [
  {
   "cell_type": "code",
   "execution_count": null,
   "metadata": {},
   "outputs": [],
   "source": [
    "# Importing Libraries\n",
    "import numpy as np\n",
    "import matplotlib.pyplot as plt"
   ]
  },
  {
   "cell_type": "code",
   "execution_count": null,
   "metadata": {},
   "outputs": [],
   "source": [
    "# Generating Data\n",
    "def generate_data(n=100):\n",
    "    \"\"\"Generates random linear data.\"\"\"\n",
    "    x = np.linspace(0, 10, n)\n",
    "    y = 2.5 * x + np.random.normal(0, 1, n)  # Linear data with noise\n",
    "    return x, y\n",
    "\n",
    "x, y = generate_data()"
   ]
  },
  {
   "cell_type": "code",
   "execution_count": null,
   "metadata": {},
   "outputs": [],
   "source": [
    "# Plotting Data\n",
    "plt.figure(figsize=(10, 6))\n",
    "plt.scatter(x, y, label='Data', color='blue', alpha=0.7)\n",
    "plt.title('Generated Linear Data with Noise')\n",
    "plt.xlabel('X-axis')\n",
    "plt.ylabel('Y-axis')\n",
    "plt.legend()\n",
    "plt.grid(True)\n",
    "plt.show()"
   ]
  },
  {
   "cell_type": "code",
   "execution_count": null,
   "metadata": {},
   "outputs": [],
   "source": [
    "# Fitting a Linear Model\n",
    "from sklearn.linear_model import LinearRegression\n",
    "\n",
    "# Reshaping data for sklearn\n",
    "x_reshaped = x.reshape(-1, 1)\n",
    "\n",
    "model = LinearRegression()\n",
    "model.fit(x_reshaped, y)\n",
    "\n",
    "# Predictions\n",
    "y_pred = model.predict(x_reshaped)\n",
    "\n",
    "# Plotting Fitted Model\n",
    "plt.figure(figsize=(10, 6))\n",
    "plt.scatter(x, y, label='Data', color='blue', alpha=0.7)\n",
    "plt.plot(x, y_pred, label='Fitted Line', color='red', linewidth=2)\n",
    "plt.title('Linear Regression Fit')\n",
    "plt.xlabel('X-axis')\n",
    "plt.ylabel('Y-axis')\n",
    "plt.legend()\n",
    "plt.grid(True)\n",
    "plt.show()\n",
    "\n",
    "# Model Coefficients\n",
    "print(f\"Slope: {model.coef_[0]:.2f}\")\n",
    "print(f\"Intercept: {model.intercept_:.2f}\")"
   ]
  }
 ],
 "metadata": {
  "kernelspec": {
   "display_name": ".venv",
   "language": "python",
   "name": "python3"
  },
  "language_info": {
   "name": "python",
   "version": "3.13.0"
  }
 },
 "nbformat": 4,
 "nbformat_minor": 2
}
